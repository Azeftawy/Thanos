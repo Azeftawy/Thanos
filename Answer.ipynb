{
 "cells": [
  {
   "cell_type": "code",
   "execution_count": 3,
   "source": [
    "import os\r\n",
    "import random"
   ],
   "outputs": [],
   "metadata": {}
  },
  {
   "cell_type": "code",
   "execution_count": 4,
   "source": [
    "def show_universe(place):\r\n",
    "    universe = os.listdir(place)\r\n",
    "    return universe"
   ],
   "outputs": [],
   "metadata": {}
  },
  {
   "cell_type": "code",
   "execution_count": 5,
   "source": [
    "universe = show_universe('files/')\r\n",
    "print(universe)"
   ],
   "outputs": [
    {
     "output_type": "stream",
     "name": "stdout",
     "text": [
      "['cover001.png', 'cover002.png', 'cover003.png', 'cover004.png', 'cover005.png', 'cover006.png', 'cover007.png', 'cover008.png', 'cover009.png', 'cover010.png', 'cover011.png', 'cover012.png', 'cover013.png', 'cover014.png', 'cover015.png', 'cover016.png', 'cover017.png', 'cover018.png', 'cover019.png', 'cover020.png', 'cover021.png', 'cover022.png', 'cover023.png', 'cover024.png', 'cover025.png', 'cover026.png', 'cover027.png', 'cover028.png', 'cover029.png', 'cover030.png', 'cover031.png', 'cover032.png', 'cover033.png', 'cover034.png', 'cover035.png', 'cover036.png', 'cover037.png', 'cover038.png', 'cover039.png', 'cover040.png', 'cover041.png', 'cover042.png', 'cover043.png', 'cover044.png', 'cover045.png', 'cover046.png', 'cover047.png', 'cover048.png', 'cover049.png', 'cover050.png']\n"
     ]
    }
   ],
   "metadata": {}
  },
  {
   "cell_type": "code",
   "execution_count": 6,
   "source": [
    "def thanos_snap(universe):\r\n",
    "    half_of_universe = int(len(universe) / 2)\r\n",
    "    for i in range(half_of_universe):\r\n",
    "        universe = show_universe('files/')\r\n",
    "        os.remove('files/' + random.choice(universe))\r\n",
    "    print('Everything is perfect')"
   ],
   "outputs": [],
   "metadata": {}
  },
  {
   "cell_type": "code",
   "execution_count": 7,
   "source": [
    "thanos_snap(universe)"
   ],
   "outputs": [
    {
     "output_type": "stream",
     "name": "stdout",
     "text": [
      "Everything is perfect\n"
     ]
    }
   ],
   "metadata": {}
  },
  {
   "cell_type": "code",
   "execution_count": 8,
   "source": [
    "new_universe = show_universe('files/')\r\n",
    "print(new_universe)"
   ],
   "outputs": [
    {
     "output_type": "stream",
     "name": "stdout",
     "text": [
      "['cover001.png', 'cover002.png', 'cover004.png', 'cover007.png', 'cover009.png', 'cover010.png', 'cover012.png', 'cover014.png', 'cover017.png', 'cover018.png', 'cover021.png', 'cover023.png', 'cover025.png', 'cover027.png', 'cover028.png', 'cover031.png', 'cover033.png', 'cover035.png', 'cover036.png', 'cover038.png', 'cover042.png', 'cover044.png', 'cover048.png', 'cover049.png', 'cover050.png']\n"
     ]
    }
   ],
   "metadata": {}
  },
  {
   "cell_type": "code",
   "execution_count": 9,
   "source": [
    "print(len(new_universe))"
   ],
   "outputs": [
    {
     "output_type": "stream",
     "name": "stdout",
     "text": [
      "25\n"
     ]
    }
   ],
   "metadata": {}
  },
  {
   "cell_type": "code",
   "execution_count": null,
   "source": [],
   "outputs": [],
   "metadata": {}
  }
 ],
 "metadata": {
  "orig_nbformat": 4,
  "language_info": {
   "name": "python",
   "version": "3.7.6",
   "mimetype": "text/x-python",
   "codemirror_mode": {
    "name": "ipython",
    "version": 3
   },
   "pygments_lexer": "ipython3",
   "nbconvert_exporter": "python",
   "file_extension": ".py"
  },
  "kernelspec": {
   "name": "python3",
   "display_name": "Python 3.7.6 64-bit ('base': conda)"
  },
  "interpreter": {
   "hash": "a4168cffbceb12c1590deca8d1e54bd88d3a08644cf94a0c8a62575d70112e57"
  }
 },
 "nbformat": 4,
 "nbformat_minor": 2
}